{
 "cells": [
  {
   "cell_type": "code",
   "execution_count": 5,
   "metadata": {},
   "outputs": [
    {
     "data": {
      "application/vnd.jupyter.widget-view+json": {
       "model_id": "95167c93676b471c83e31e01bd96c093",
       "version_major": 2,
       "version_minor": 0
      },
      "text/plain": [
       "IntSlider(value=0, max=10, step=0)"
      ]
     },
     "metadata": {},
     "output_type": "display_data"
    }
   ],
   "source": [
    "import threading\n",
    "import time\n",
    "import ipywidgets as ipw\n",
    "sl = ipw.IntSlider(0.0, min=0.0, max=10.0, step=0.5)\n",
    "display(sl)"
   ]
  },
  {
   "cell_type": "code",
   "execution_count": 71,
   "metadata": {},
   "outputs": [],
   "source": [
    "import threading\n",
    "import time\n",
    "import ipywidgets as ipw\n",
    "#from ipywidgets import interact\n",
    "\n",
    "run = True\n",
    "\n",
    "\n",
    "# Define a function for the thread\n",
    "def testingValues():\n",
    "    count = 0\n",
    "    while sl.value and (count < 10):\n",
    "        time.sleep(1)\n",
    "        count += 1\n",
    "    print(\"exiting thread\")\n",
    "    print(\"count = \", count)\n",
    "\n",
    "def setRun(r):\n",
    "    global run\n",
    "    run = r\n",
    "    \n",
    "t = threading.Thread(target=testingValues)\n",
    "t.start()\n"
   ]
  },
  {
   "cell_type": "code",
   "execution_count": null,
   "metadata": {},
   "outputs": [],
   "source": [
    "def setRun(r):\n",
    "    global run\n",
    "    run = r\n",
    "interact(setRun, r=1)"
   ]
  },
  {
   "cell_type": "code",
   "execution_count": 58,
   "metadata": {},
   "outputs": [
    {
     "name": "stdout",
     "output_type": "stream",
     "text": [
      "Running...\n"
     ]
    }
   ],
   "source": [
    "run = True\n",
    "def f():\n",
    "    count = 0\n",
    "    while run and (count < 10):\n",
    "        print(\"Running...\")\n",
    "        time.sleep(2)\n",
    "        count += 1\n",
    "        \n",
    "t = threading.Thread(target=f)\n",
    "t.start()"
   ]
  },
  {
   "cell_type": "code",
   "execution_count": 59,
   "metadata": {},
   "outputs": [
    {
     "data": {
      "application/vnd.jupyter.widget-view+json": {
       "model_id": "221cd66f015b42f693498e60b18925b7",
       "version_major": 2,
       "version_minor": 0
      },
      "text/plain": [
       "interactive(children=(IntSlider(value=1, description='x', max=3, min=-1), Output()), _dom_classes=('widget-int…"
      ]
     },
     "metadata": {},
     "output_type": "display_data"
    },
    {
     "data": {
      "text/plain": [
       "<function __main__.setRun(x)>"
      ]
     },
     "execution_count": 59,
     "metadata": {},
     "output_type": "execute_result"
    },
    {
     "name": "stdout",
     "output_type": "stream",
     "text": [
      "Running...\n"
     ]
    }
   ],
   "source": [
    "def setRun(x):\n",
    "    global run\n",
    "    run = x\n",
    "interact(setRun, x=1)"
   ]
  },
  {
   "cell_type": "code",
   "execution_count": 66,
   "metadata": {},
   "outputs": [
    {
     "data": {
      "application/vnd.jupyter.widget-view+json": {
       "model_id": "01f3accbf210431c8155d55f8ee7daec",
       "version_major": 2,
       "version_minor": 0
      },
      "text/plain": [
       "IntSlider(value=1, max=5)"
      ]
     },
     "metadata": {},
     "output_type": "display_data"
    }
   ],
   "source": [
    "sl = ipw.IntSlider(1, min=0, max=5)\n",
    "display(sl)"
   ]
  },
  {
   "cell_type": "code",
   "execution_count": 64,
   "metadata": {},
   "outputs": [],
   "source": [
    "sl.value = 1"
   ]
  },
  {
   "cell_type": "code",
   "execution_count": 67,
   "metadata": {},
   "outputs": [
    {
     "name": "stdout",
     "output_type": "stream",
     "text": [
      "exiting thread\n",
      "count =  10\n"
     ]
    }
   ],
   "source": [
    "run = True\n",
    "count = 0\n",
    "while run and (count < 10):\n",
    "    time.sleep(1)\n",
    "    count += 1\n",
    "    run = sl.value\n",
    "print(\"exiting thread\")\n",
    "print(\"count = \", count)"
   ]
  },
  {
   "cell_type": "code",
   "execution_count": null,
   "metadata": {},
   "outputs": [],
   "source": []
  }
 ],
 "metadata": {
  "kernelspec": {
   "display_name": "Python 3",
   "language": "python",
   "name": "python3"
  }
 },
 "nbformat": 4,
 "nbformat_minor": 2
}
