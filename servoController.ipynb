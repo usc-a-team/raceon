{
 "cells": [
  {
   "cell_type": "code",
   "execution_count": null,
   "metadata": {},
   "outputs": [],
   "source": [
    "from picamera.array import PiYUVArray, PiRGBArray\n",
    "from picamera import PiCamera\n",
    "from scipy.signal import find_peaks, butter, filtfilt\n",
    "from simple_pid import PID\n",
    "#from ipywidgets import interact, interactive\n",
    "from pwm import PWM\n",
    "import ipywidgets as ipw\n",
    "import time\n",
    "import matplotlib.pyplot as plt\n",
    "import skimage as ski\n",
    "import numpy as np\n",
    "import time\n",
    "import threading"
   ]
  },
  {
   "cell_type": "code",
   "execution_count": null,
   "metadata": {},
   "outputs": [],
   "source": [
    "# Setup and export pwm0 and pwm1\n",
    "pwm0 = PWM(0)\n",
    "pwm0.export()\n",
    "\n",
    "# Set the periods to 20ms\n",
    "pwm0.period = 20000000\n",
    "\n",
    "# Set the duty_cycle of the motor to 1ms and servo to 1.5ms\n",
    "pwm0.duty_cycle = 1400000\n",
    "\n",
    "# Enable the pwms\n",
    "pwm0.enable = True\n",
    "\n",
    "time.sleep(1)\n",
    "\n",
    "#pwm0.duty_cycle = 900000\n",
    "#time.sleep(1)\n",
    "#pwm0.duty_cycle = 2000000\n",
    "#time.sleep(1)\n",
    "#pwm0.duty_cycle = 1500000\n",
    "\n",
    "servo = ipw.IntSlider(min=0, max=3000000, step=10000, value=1400000, description=\"Servo\")\n",
    "display(servo)\n",
    "running = ipw.ToggleButton(value=True, description='STOP', disabled=False, button_style='', tooltip='Description', icon='check')\n",
    "display(running)"
   ]
  },
  {
   "cell_type": "code",
   "execution_count": null,
   "metadata": {},
   "outputs": [],
   "source": [
    "def setServo():\n",
    "    while True:\n",
    "        pwm0.duty_cycle = servo.value\n",
    "        #if not running.value:\n",
    "        #    running.value = True\n",
    "        #    break\n",
    "\n",
    "t = threading.Thread(target=setServo)\n",
    "t.start()"
   ]
  },
  {
   "cell_type": "code",
   "execution_count": null,
   "metadata": {},
   "outputs": [],
   "source": []
  }
 ],
 "metadata": {
  "kernelspec": {
   "display_name": "Python 3",
   "language": "python",
   "name": "python3"
  },
  "language_info": {
   "codemirror_mode": {
    "name": "ipython",
    "version": 3
   },
   "file_extension": ".py",
   "mimetype": "text/x-python",
   "name": "python",
   "nbconvert_exporter": "python",
   "pygments_lexer": "ipython3",
   "version": "3.5.3"
  }
 },
 "nbformat": 4,
 "nbformat_minor": 2
}
