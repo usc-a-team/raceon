{
 "cells": [
  {
   "cell_type": "code",
   "execution_count": 11,
   "metadata": {},
   "outputs": [],
   "source": [
    "from picamera.array import PiYUVArray, PiRGBArray\n",
    "from picamera import PiCamera\n",
    "from scipy.signal import find_peaks, butter, filtfilt\n",
    "from simple_pid import PID\n",
    "#from ipywidgets import interact, interactive\n",
    "from pwm import PWM\n",
    "import ipywidgets as ipw\n",
    "import time\n",
    "import matplotlib.pyplot as plt\n",
    "import skimage as ski\n",
    "import numpy as np\n",
    "import time\n",
    "import threading\n",
    "\n",
    "# Takes in a percent and a pwm, sets the speed according to the percent\n",
    "def setEngineSpeed(percent, pwm):\n",
    "    # If the percent is less than 0, set to 0\n",
    "    if percent < 0:\n",
    "        percent = 0\n",
    "\t# If the percent is greater than 1, set to 1\n",
    "    if percent > 1:\n",
    "        percent = 1\n",
    "\t# Calculate the speed to set the motor\n",
    "    newSpeed = int(1000000 * percent + 1000000)\n",
    "    #print(\"set engine speed \", speed)\n",
    "\t# Set the duty_cylce to the speed\n",
    "    pwm.duty_cycle = newSpeed\n",
    "\n",
    "# Takes in a percent and a pwm, turns to the right according to the percent\n",
    "def turnRight(percent, pwm):\n",
    "\t# If the percent is less than 0, set to 0\n",
    "    if percent < 0:\n",
    "        percent = 0\n",
    "\t# If the percent is greater than 1, set to 1\n",
    "    if percent > 1:\n",
    "        percent = 1\n",
    "\t# Calculate the direction to set the servo\n",
    "    value = int(1500000 - 500000 * percent)\n",
    "    #print(\"turn right speed: \", value)\n",
    "\t# Set the duty_cylce to the value\n",
    "    pwm.duty_cycle = value\n",
    "\n",
    "# Takes in a percent and a pwm, turns to the left according to the percent\n",
    "def turnLeft(percent, pwm):\n",
    "\t# If the percent is less than 0, set to 0\n",
    "    if percent < 0:\n",
    "        percent = 0\n",
    "\t# If the percent is greater than 1, set to 1\n",
    "    if percent > 1:\n",
    "        percent = 1\n",
    "\t# Calculate the direction to set the servo\n",
    "    value = int(500000 * percent + 1500000)\n",
    "    #print(\"turn left speed: \", value)\n",
    "\t# Set the duty_cylce to the value\n",
    "    pwm.duty_cycle = value\n",
    "\n",
    "def turn(percent, pwm):\n",
    "    if percent < -1:\n",
    "        percent = -1\n",
    "    if percent > 1:\n",
    "        percent = 1\n",
    "    if percent < 0:\n",
    "        turnRight(-1 * percent, pwm)\n",
    "    else:\n",
    "        turnLeft(percent, pwm)\n",
    "        \n",
    "def getNewSpeed(turnPercent):\n",
    "    if turnPercent <= 0.15:\n",
    "        newSpeed = 0.22\n",
    "    elif turnPercent <=0.5:\n",
    "        newSpeed = 0.17\n",
    "    else:\n",
    "        newSpeed = 0.16\n",
    "    return newSpeed\n",
    "\n",
    "def setInteractValues(speed = 0, p = 1, i = 0, d = 0):\n",
    "    global Kp \n",
    "    Kp = p\n",
    "    global Ki \n",
    "    Ki = i\n",
    "    global Kd \n",
    "    Kd = d\n",
    "    global engineSpeed\n",
    "    engineSpeed = speed\n"
   ]
  },
  {
   "cell_type": "code",
   "execution_count": 12,
   "metadata": {},
   "outputs": [
    {
     "data": {
      "application/vnd.jupyter.widget-view+json": {
       "model_id": "17f00fe0fbf042008f7bdb926d3d3fa6",
       "version_major": 2,
       "version_minor": 0
      },
      "text/plain": [
       "FloatSlider(value=0.0, description='Speed', max=1.0, step=0.01)"
      ]
     },
     "metadata": {},
     "output_type": "display_data"
    },
    {
     "data": {
      "application/vnd.jupyter.widget-view+json": {
       "model_id": "e188f76b37c445c1b3ff0e58056b32f4",
       "version_major": 2,
       "version_minor": 0
      },
      "text/plain": [
       "FloatSlider(value=0.8, description='Kp', max=10.0)"
      ]
     },
     "metadata": {},
     "output_type": "display_data"
    },
    {
     "data": {
      "application/vnd.jupyter.widget-view+json": {
       "model_id": "5b3fe4808f5744c38e9b9e6a6201a811",
       "version_major": 2,
       "version_minor": 0
      },
      "text/plain": [
       "FloatSlider(value=0.5, description='Ki', max=10.0)"
      ]
     },
     "metadata": {},
     "output_type": "display_data"
    },
    {
     "data": {
      "application/vnd.jupyter.widget-view+json": {
       "model_id": "60698f3d41d543e3b8b5983a0bc65a69",
       "version_major": 2,
       "version_minor": 0
      },
      "text/plain": [
       "FloatSlider(value=0.8, description='Kd', max=10.0, step=0.05)"
      ]
     },
     "metadata": {},
     "output_type": "display_data"
    },
    {
     "data": {
      "application/vnd.jupyter.widget-view+json": {
       "model_id": "98b027cdcf644e4dbd66abbcb9cdf444",
       "version_major": 2,
       "version_minor": 0
      },
      "text/plain": [
       "IntSlider(value=1, description='KILL SWITCH', max=1)"
      ]
     },
     "metadata": {},
     "output_type": "display_data"
    },
    {
     "data": {
      "application/vnd.jupyter.widget-view+json": {
       "model_id": "7962c2bb4dfb4b7da953f5420748dfb2",
       "version_major": 2,
       "version_minor": 0
      },
      "text/plain": [
       "ToggleButton(value=False, description='Snap photo', icon='check', tooltip='Description')"
      ]
     },
     "metadata": {},
     "output_type": "display_data"
    }
   ],
   "source": [
    "speed = ipw.FloatSlider(min=0.0, max=1.0, step=0.01, value=0, description='Speed')\n",
    "display(speed)\n",
    "Kp = ipw.FloatSlider(min=0.0, max=10.0, step=0.1, value=0.8, description='Kp')\n",
    "display(Kp)\n",
    "Ki = ipw.FloatSlider(min=0.0, max=10.0, step=0.1, value=0.5, description='Ki')\n",
    "display(Ki)\n",
    "Kd = ipw.FloatSlider(min=0.0, max=10.0, step=0.05, value=0.8, description='Kd')\n",
    "display(Kd)\n",
    "running = ipw.IntSlider(min=0, max=1, step=1, value=1, description='KILL SWITCH')\n",
    "display(running)\n",
    "\n",
    "button = ipw.ToggleButton(value=False, description='Snap photo', disabled=False,button_style='', tooltip='Description', icon='check')\n",
    "display(button)"
   ]
  },
  {
   "cell_type": "code",
   "execution_count": 13,
   "metadata": {},
   "outputs": [
    {
     "ename": "PiCameraMMALError",
     "evalue": "Failed to enable connection: Out of resources",
     "output_type": "error",
     "traceback": [
      "\u001b[0;31m---------------------------------------------------------------------------\u001b[0m",
      "\u001b[0;31mPiCameraMMALError\u001b[0m                         Traceback (most recent call last)",
      "\u001b[0;32m<ipython-input-13-19c3aa96b43f>\u001b[0m in \u001b[0;36m<module>\u001b[0;34m\u001b[0m\n\u001b[1;32m     26\u001b[0m \u001b[0;34m\u001b[0m\u001b[0m\n\u001b[1;32m     27\u001b[0m \u001b[0;34m\u001b[0m\u001b[0m\n\u001b[0;32m---> 28\u001b[0;31m \u001b[0mcamera\u001b[0m \u001b[0;34m=\u001b[0m \u001b[0mPiCamera\u001b[0m\u001b[0;34m(\u001b[0m\u001b[0;34m)\u001b[0m\u001b[0;34m\u001b[0m\u001b[0m\n\u001b[0m\u001b[1;32m     29\u001b[0m \u001b[0;34m\u001b[0m\u001b[0m\n\u001b[1;32m     30\u001b[0m \u001b[0;34m\u001b[0m\u001b[0m\n",
      "\u001b[0;32m~/.virtualenvs/raceon/lib/python3.5/site-packages/picamera/camera.py\u001b[0m in \u001b[0;36m__init__\u001b[0;34m(self, camera_num, stereo_mode, stereo_decimate, resolution, framerate, sensor_mode, led_pin, clock_mode, framerate_range)\u001b[0m\n\u001b[1;32m    431\u001b[0m             \u001b[0mself\u001b[0m\u001b[0;34m.\u001b[0m\u001b[0m_init_camera\u001b[0m\u001b[0;34m(\u001b[0m\u001b[0mcamera_num\u001b[0m\u001b[0;34m,\u001b[0m \u001b[0mstereo_mode\u001b[0m\u001b[0;34m,\u001b[0m \u001b[0mstereo_decimate\u001b[0m\u001b[0;34m)\u001b[0m\u001b[0;34m\u001b[0m\u001b[0m\n\u001b[1;32m    432\u001b[0m             \u001b[0mself\u001b[0m\u001b[0;34m.\u001b[0m\u001b[0m_configure_camera\u001b[0m\u001b[0;34m(\u001b[0m\u001b[0msensor_mode\u001b[0m\u001b[0;34m,\u001b[0m \u001b[0mframerate\u001b[0m\u001b[0;34m,\u001b[0m \u001b[0mresolution\u001b[0m\u001b[0;34m,\u001b[0m \u001b[0mclock_mode\u001b[0m\u001b[0;34m)\u001b[0m\u001b[0;34m\u001b[0m\u001b[0m\n\u001b[0;32m--> 433\u001b[0;31m             \u001b[0mself\u001b[0m\u001b[0;34m.\u001b[0m\u001b[0m_init_preview\u001b[0m\u001b[0;34m(\u001b[0m\u001b[0;34m)\u001b[0m\u001b[0;34m\u001b[0m\u001b[0m\n\u001b[0m\u001b[1;32m    434\u001b[0m             \u001b[0mself\u001b[0m\u001b[0;34m.\u001b[0m\u001b[0m_init_splitter\u001b[0m\u001b[0;34m(\u001b[0m\u001b[0;34m)\u001b[0m\u001b[0;34m\u001b[0m\u001b[0m\n\u001b[1;32m    435\u001b[0m             \u001b[0mself\u001b[0m\u001b[0;34m.\u001b[0m\u001b[0m_camera\u001b[0m\u001b[0;34m.\u001b[0m\u001b[0menable\u001b[0m\u001b[0;34m(\u001b[0m\u001b[0;34m)\u001b[0m\u001b[0;34m\u001b[0m\u001b[0m\n",
      "\u001b[0;32m~/.virtualenvs/raceon/lib/python3.5/site-packages/picamera/camera.py\u001b[0m in \u001b[0;36m_init_preview\u001b[0;34m(self)\u001b[0m\n\u001b[1;32m    511\u001b[0m         \u001b[0;31m# fade to black (issue #22)\u001b[0m\u001b[0;34m\u001b[0m\u001b[0;34m\u001b[0m\u001b[0m\n\u001b[1;32m    512\u001b[0m         self._preview = PiNullSink(\n\u001b[0;32m--> 513\u001b[0;31m             self, self._camera.outputs[self.CAMERA_PREVIEW_PORT])\n\u001b[0m\u001b[1;32m    514\u001b[0m \u001b[0;34m\u001b[0m\u001b[0m\n\u001b[1;32m    515\u001b[0m     \u001b[0;32mdef\u001b[0m \u001b[0m_start_capture\u001b[0m\u001b[0;34m(\u001b[0m\u001b[0mself\u001b[0m\u001b[0;34m,\u001b[0m \u001b[0mport\u001b[0m\u001b[0;34m)\u001b[0m\u001b[0;34m:\u001b[0m\u001b[0;34m\u001b[0m\u001b[0m\n",
      "\u001b[0;32m~/.virtualenvs/raceon/lib/python3.5/site-packages/picamera/renderers.py\u001b[0m in \u001b[0;36m__init__\u001b[0;34m(self, parent, source)\u001b[0m\n\u001b[1;32m    556\u001b[0m         \u001b[0mself\u001b[0m\u001b[0;34m.\u001b[0m\u001b[0mrenderer\u001b[0m \u001b[0;34m=\u001b[0m \u001b[0mmo\u001b[0m\u001b[0;34m.\u001b[0m\u001b[0mMMALNullSink\u001b[0m\u001b[0;34m(\u001b[0m\u001b[0;34m)\u001b[0m\u001b[0;34m\u001b[0m\u001b[0m\n\u001b[1;32m    557\u001b[0m         \u001b[0mself\u001b[0m\u001b[0;34m.\u001b[0m\u001b[0mrenderer\u001b[0m\u001b[0;34m.\u001b[0m\u001b[0menable\u001b[0m\u001b[0;34m(\u001b[0m\u001b[0;34m)\u001b[0m\u001b[0;34m\u001b[0m\u001b[0m\n\u001b[0;32m--> 558\u001b[0;31m         \u001b[0mself\u001b[0m\u001b[0;34m.\u001b[0m\u001b[0mrenderer\u001b[0m\u001b[0;34m.\u001b[0m\u001b[0minputs\u001b[0m\u001b[0;34m[\u001b[0m\u001b[0;36m0\u001b[0m\u001b[0;34m]\u001b[0m\u001b[0;34m.\u001b[0m\u001b[0mconnect\u001b[0m\u001b[0;34m(\u001b[0m\u001b[0msource\u001b[0m\u001b[0;34m)\u001b[0m\u001b[0;34m.\u001b[0m\u001b[0menable\u001b[0m\u001b[0;34m(\u001b[0m\u001b[0;34m)\u001b[0m\u001b[0;34m\u001b[0m\u001b[0m\n\u001b[0m\u001b[1;32m    559\u001b[0m \u001b[0;34m\u001b[0m\u001b[0m\n\u001b[1;32m    560\u001b[0m     \u001b[0;32mdef\u001b[0m \u001b[0mclose\u001b[0m\u001b[0;34m(\u001b[0m\u001b[0mself\u001b[0m\u001b[0;34m)\u001b[0m\u001b[0;34m:\u001b[0m\u001b[0;34m\u001b[0m\u001b[0m\n",
      "\u001b[0;32m~/.virtualenvs/raceon/lib/python3.5/site-packages/picamera/mmalobj.py\u001b[0m in \u001b[0;36menable\u001b[0;34m(self)\u001b[0m\n\u001b[1;32m   2210\u001b[0m         mmal_check(\n\u001b[1;32m   2211\u001b[0m             \u001b[0mmmal\u001b[0m\u001b[0;34m.\u001b[0m\u001b[0mmmal_connection_enable\u001b[0m\u001b[0;34m(\u001b[0m\u001b[0mself\u001b[0m\u001b[0;34m.\u001b[0m\u001b[0m_connection\u001b[0m\u001b[0;34m)\u001b[0m\u001b[0;34m,\u001b[0m\u001b[0;34m\u001b[0m\u001b[0m\n\u001b[0;32m-> 2212\u001b[0;31m             prefix=\"Failed to enable connection\")\n\u001b[0m\u001b[1;32m   2213\u001b[0m         \u001b[0;32mif\u001b[0m \u001b[0mself\u001b[0m\u001b[0;34m.\u001b[0m\u001b[0m_callback\u001b[0m \u001b[0;32mis\u001b[0m \u001b[0;32mnot\u001b[0m \u001b[0;32mNone\u001b[0m\u001b[0;34m:\u001b[0m\u001b[0;34m\u001b[0m\u001b[0m\n\u001b[1;32m   2214\u001b[0m             \u001b[0mMMALPool\u001b[0m\u001b[0;34m(\u001b[0m\u001b[0mself\u001b[0m\u001b[0;34m.\u001b[0m\u001b[0m_connection\u001b[0m\u001b[0;34m[\u001b[0m\u001b[0;36m0\u001b[0m\u001b[0;34m]\u001b[0m\u001b[0;34m.\u001b[0m\u001b[0mpool\u001b[0m\u001b[0;34m)\u001b[0m\u001b[0;34m.\u001b[0m\u001b[0msend_all_buffers\u001b[0m\u001b[0;34m(\u001b[0m\u001b[0mself\u001b[0m\u001b[0;34m.\u001b[0m\u001b[0m_source\u001b[0m\u001b[0;34m)\u001b[0m\u001b[0;34m\u001b[0m\u001b[0m\n",
      "\u001b[0;32m~/.virtualenvs/raceon/lib/python3.5/site-packages/picamera/exc.py\u001b[0m in \u001b[0;36mmmal_check\u001b[0;34m(status, prefix)\u001b[0m\n\u001b[1;32m    182\u001b[0m     \"\"\"\n\u001b[1;32m    183\u001b[0m     \u001b[0;32mif\u001b[0m \u001b[0mstatus\u001b[0m \u001b[0;34m!=\u001b[0m \u001b[0mmmal\u001b[0m\u001b[0;34m.\u001b[0m\u001b[0mMMAL_SUCCESS\u001b[0m\u001b[0;34m:\u001b[0m\u001b[0;34m\u001b[0m\u001b[0m\n\u001b[0;32m--> 184\u001b[0;31m         \u001b[0;32mraise\u001b[0m \u001b[0mPiCameraMMALError\u001b[0m\u001b[0;34m(\u001b[0m\u001b[0mstatus\u001b[0m\u001b[0;34m,\u001b[0m \u001b[0mprefix\u001b[0m\u001b[0;34m)\u001b[0m\u001b[0;34m\u001b[0m\u001b[0m\n\u001b[0m\u001b[1;32m    185\u001b[0m \u001b[0;34m\u001b[0m\u001b[0m\n",
      "\u001b[0;31mPiCameraMMALError\u001b[0m: Failed to enable connection: Out of resources"
     ]
    }
   ],
   "source": [
    "# Setup and export pwm0 and pwm1\n",
    "pwm0 = PWM(0)\n",
    "pwm1 = PWM(1)\n",
    "pwm0.export()\n",
    "pwm1.export()\n",
    "\n",
    "# Set the periods to 20ms\n",
    "pwm0.period = 20000000\n",
    "pwm1.period = 20000000\n",
    "\n",
    "# Set the duty_cycle of the motor to 1ms and servo to 1.5ms\n",
    "setEngineSpeed(0, pwm1)\n",
    "turnRight(0, pwm0)\n",
    "\n",
    "# Enable the pwms\n",
    "pwm0.enable = True\n",
    "pwm1.enable = True\n",
    "\n",
    "# Give some time to start up\n",
    "time.sleep(5)\n",
    "\n",
    "# START OF COMPUTER VISION\n",
    "\n",
    "res = (640,480)\n",
    "b, a = butter(3, 0.007)\n",
    "\n",
    "\n",
    "camera = PiCamera()\n",
    "\n",
    "\n",
    "# Check the link below for the combinations between mode and resolution\n",
    "# https://picamera.readthedocs.io/en/release-1.13/fov.html#sensor-modes\n",
    "camera.sensor_mode = 7\n",
    "camera.resolution = res\n",
    "camera.framerate = 60\n",
    "\n",
    "# Initialize the buffer and start capturing\n",
    "rawCapture = PiYUVArray(camera, size=res)\n",
    "stream = camera.capture_continuous(rawCapture, format=\"yuv\", use_video_port=True)\n",
    "\n",
    "# Measure the time needed to process 300 images to estimate the FPS\n",
    "output = 0\n",
    "engineSpeed = 0\n",
    "whiteCenterLine = (0,0)\n",
    "turning = 'n'\n",
    "images = []\n",
    "\n",
    "def func():\n",
    "    global turning\n",
    "    global images\n",
    "    frame_num = 6\n",
    "    for f in stream:\n",
    "        setEngineSpeed(speed.value, pwm1)\n",
    "        pid = PID(Kp.value, Ki.value, Kd.value, setpoint=0)\n",
    "        pid.sample_time = 0.05\n",
    "        # Get the intensity component of the image (a trick to get black and white images)\n",
    "        I = f.array[:, :, 0]\n",
    "        if (button.value):\n",
    "            frame_num = 0\n",
    "            button.value = False\n",
    "        if (frame_num <=2):\n",
    "            images.append(I)\n",
    "            frame_num = frame_num + 1\n",
    "        # Reset the buffer for the next image\n",
    "        rawCapture.truncate(0)\n",
    "\n",
    "        # Select a horizontal line in the middle of the image\n",
    "        ################## Lets play around with this value to see if there is a better spot\n",
    "        L = I[440, :]\n",
    "\n",
    "        # Smooth the transitions so we can detect the peaks \n",
    "        Lf = filtfilt(b, a, L)\n",
    "\n",
    "        # Find peaks which are higher than 0.5\n",
    "        p = find_peaks(Lf, height=128)\n",
    "        num_peaks = len(p[0])\n",
    "        #for x in range(num_peaks):\n",
    "            #p[0][x] -=25;\n",
    "        if num_peaks == 1:\n",
    "            whiteCenterLine = p[0][0]\n",
    "        elif num_peaks >= 2:\n",
    "            whiteCenterLine = (p[0][0] + p[0][len(p)-1]) / 2\n",
    "        elif (num_peaks == 0):\n",
    "            pass # REMEMBER LAST TURN\n",
    "        # Print peaks\n",
    "        # print(p)\n",
    "\n",
    "        # Here we should steer and then update to the next frame.\n",
    "        #print(\"num peaks \", num_peaks)\n",
    "        if num_peaks == 0:\n",
    "            if turning == 'l':\n",
    "                output = 1\n",
    "            elif turning == 'r':\n",
    "                output = -1\n",
    "        else:\n",
    "            if turning == 'l' and whiteCenterLine - 320 > 200:\n",
    "                pass\n",
    "            elif turning == 'r' and whiteCenterLine < 200:\n",
    "                pass\n",
    "            else:\n",
    "                percentOff = (whiteCenterLine - 320) / 320.0\n",
    "                output = pid(percentOff)\n",
    "                if whiteCenterLine < 320:\n",
    "                    turning = 'l'\n",
    "                else:\n",
    "                    turning = 'r'\n",
    "        #print(\"output: \", output)\n",
    "        newSpeed = getNewSpeed(abs(output))\n",
    "        # print(\"speed: \", newSpeed)\n",
    "        if newSpeed <= speed.value:\n",
    "            setEngineSpeed(newSpeed, pwm1)\n",
    "        turn(output, pwm0)\n",
    "\n",
    "        if not running.value:\n",
    "            break\n",
    "    # Stop the motor\n",
    "    setEngineSpeed(0, pwm1)\n",
    "    # Reposition the servo to 0\n",
    "    turnRight(0, pwm0)\n",
    "    time.sleep(.1)\n",
    "\n",
    "    #time_elapsed = time.time() - t\n",
    "    #print(\"Elapsed {:0.2f} seconds, estimated FPS {:0.2f}\".format(time_elapsed, N / time_elapsed))\n",
    "\n",
    "    stream.close()\n",
    "    rawCapture.close()\n",
    "    camera.close()\n",
    "\n",
    "    # Disable both pwms\n",
    "    pwm0.enable = False\n",
    "    pwm1.enable = False\n",
    "            \n",
    "t = threading.Thread(target=func)\n",
    "t.start()"
   ]
  },
  {
   "cell_type": "code",
   "execution_count": null,
   "metadata": {},
   "outputs": [],
   "source": [
    "stream.close()\n",
    "rawCapture.close()\n",
    "camera.close()"
   ]
  },
  {
   "cell_type": "code",
   "execution_count": null,
   "metadata": {},
   "outputs": [],
   "source": [
    "for i in range(0,len(images)): \n",
    "    plt.imshow(images[i])"
   ]
  },
  {
   "cell_type": "code",
   "execution_count": null,
   "metadata": {},
   "outputs": [],
   "source": [
    "plt.figure(figsize=(18, 24))\n",
    "\n",
    "for k, img in enumerate(images):\n",
    "    ax = plt.subplot(4, 3, k + 1)\n",
    "    ax.imshow(img)\n",
    "    \n",
    "plt.tight_layout()"
   ]
  },
  {
   "cell_type": "code",
   "execution_count": null,
   "metadata": {},
   "outputs": [],
   "source": []
  }
 ],
 "metadata": {
  "kernelspec": {
   "display_name": "Python 3",
   "language": "python",
   "name": "python3"
  }
 },
 "nbformat": 4,
 "nbformat_minor": 2
}
